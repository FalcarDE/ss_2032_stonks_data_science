{
 "cells": [
  {
   "cell_type": "markdown",
   "source": [
    "# Finaler Report (33)"
   ],
   "metadata": {
    "collapsed": false
   }
  },
  {
   "cell_type": "markdown",
   "source": [
    "## Bewertung Ergebnisse der Business Objective & Business Success Criteria (32)\n",
    "\n",
    "Aus den in \"Chapter - 0 Einführung\" beschriebenen Business Objective & Business Success Criteria\n",
    "\n",
    "<br>\n",
    "<img src= \"./images/Chapter0/Business_Objectives_Business_Success_Criteria.png\"  width=\"950\" ><br>\n",
    "<br>\n",
    "<br>\n",
    "\n",
    "konnte unter den folgenden Aspekten erfolgreich beantwortet werden:\n",
    "\n",
    "<br>\n",
    "<img src= \"./images/Chapter4/Business_Success_Criteria_0.png\"  width=\"950\" >\n",
    "<br>\n",
    "<br>\n",
    "<img src= \"./images/Chapter4/Business_Success_Criteria_1.png\"  width=\"950\" >\n",
    "<br>\n",
    "<br>\n",
    "<img src= \"./images/Chapter4/Business_Success_Criteria_2.png\"  width=\"950\" >\n",
    "<br>\n",
    "<br>\n",
    "<img src= \"./images/Chapter4/Business_Success_Criteria_3.png\"  width=\"950\" >\n",
    "<br>\n",
    "<br>\n",
    "<img src= \"./images/Chapter4/Business_Success_Criteria_4.png\"  width=\"950\" >\n",
    "<br>"
   ],
   "metadata": {
    "collapsed": false
   }
  },
  {
   "cell_type": "markdown",
   "source": [
    "## Bewertung der Ergebnisse des Data Minings in Bezug auf Ziele und Erfolgskriterien (32)\n",
    "\n",
    "Diese folgenden Ziele wurden für das Data Mining in \"Chapter - 0 Einführung\" definiert:\n",
    "<br>\n",
    "<img src= \"./images/Chapter0/Business_Objectives_Business_Success_Criteria_1.png\"  width=\"950\" >\n",
    "<br>\n",
    "\n",
    "Im generellen wurden die definierten Data Mining Ziele unter den in der Volesung verwendeten Methoden analysiert, interpretiert und wie in den folgenden Folien zu sehen erfolgreich durchgeführt:\n",
    "\n",
    "<br>\n",
    "<img src= \"./images/Chapter4/Data_Mining_Ziele_0.png\"  width=\"950\" >\n",
    "<br>\n",
    "<br>\n",
    "<img src= \"./images/Chapter4/Data_Mining_Ziele_1.png\"  width=\"950\" >\n",
    "<br>\n",
    "<br>\n",
    "<img src= \"./images/Chapter4/Data_Mining_Ziele_2.png\"  width=\"950\" >\n",
    "<br>\n",
    "<br>\n",
    "<img src= \"./images/Chapter4/Data_Mining_Ziele_3.png\"  width=\"950\" >\n",
    "<br>\n"
   ],
   "metadata": {
    "collapsed": false
   }
  },
  {
   "cell_type": "markdown",
   "source": [
    "## Final Report: Datenanalyse - Chapter 1  (33)\n",
    "Wie aus den Punkt \"Bewertung der Ergebnisse des Data Minings in Bezug auf Ziele und Erfolgskriterien (32)\" zu sehen lag der Augenmaß der Analysen und Methoden da drauf, den iShares Core MSCI World UCITS ETF in seinen Details zu untersuchen.\n",
    "\n",
    "Zunächst wurde in Chapter 1 eine Bereinigung, Aufbereitung und Vereinigung Datensätze vorgenommen und erste Analysen der Daten auf den Mittelwert, Median,Standardabweichung, IQR, Percientile und Boxplot Diagramme, sowie Koeffizient Intervalle mit Sampling und Historgramm für den Adj. Closed Price und Volumen durchgeführt, um ein erstes Gefühl für das Verständnis der Daten zu erhalten. (Data Understanding und Data Preparation).\n",
    "\n",
    "Als Nächstes wurden in Chapter 1 die:\n",
    "* Korrelation zwischen dem täglichen EZB-Leitzins und MSCI World Adj Close Daily\n",
    "* Korrelation zwischen des monatlichen Leitzinses der FED und den MSCI World Adj Close Monthly Price (6, 8)\n",
    "* Korrelation zwischen täglich Kurs des Währungstausch EUR-USD und dem MSCI World Adj Close Daily (6, 8)\n",
    "\n",
    "durchgeführt. Dabei wurde das Ergebnis der Korrelation mit einem Streudiagramm kombiniert, um eine bessere Darstellung der Daten in Zusammenhang zu gewährleisten.\n",
    "\n",
    "Das sind die Ergebnisse der Korrelationen:\n",
    "\n",
    "<br>\n",
    "<img src= \"./images/Chapter4/Korre_Ergebnis_0.png\"  width=\"950\" >\n",
    "<br>\n",
    "<br>\n",
    "<br>\n",
    "<img src= \"./images/Chapter4/Korre_Ergebnis_1.png\"  width=\"950\" >\n",
    "<br>\n",
    "<br>\n",
    "<br>\n",
    "<img src= \"./images/Chapter4/Korre_Ergebnis_2.png\"  width=\"950\" >\n",
    "<br>\n",
    "<br>\n",
    "\n",
    "Dabei die sind erste Fragen aufgekommen, wie zB. warum die FED eine negative Korrelation zu den Adj. Close aufweist, dagegen aber EZB-Leitzins einen positiven Korrelationswert aufweist.\n",
    "\n",
    "Darauf hin wurde eine weitere Analyse der mittels der Portfolio-Daten des iShares Core MSCI World UCITS ETF ein Balkendiagramm darstellt, welche aufzeigt, dass mehr 68% aller Aktien im ETF aus der USA stammen und damit der Leitzins der FED einen deutlich größeren Einfluss hat als die der EZB.\n",
    "<br>\n",
    "<img src= \"./images/Chapter4/ETF_Länder.png\"  width=\"950\" >\n",
    "<br>\n",
    "\n",
    "Zusätzlich wurde in Hexagonal binning and Contours Diagramm erstellt. Diese sollten die Abhängigkeit des Adj. Close Price und Leitzins der FED für Banken darstellen\n"
   ],
   "metadata": {
    "collapsed": false
   }
  },
  {
   "cell_type": "markdown",
   "source": [
    "## Final Report: Modellevaluierung - Chapter 2 & 3  (33)\n",
    "\n",
    "In Chapter 2 wurde zunächst die Thesen für die statistischen Signifikanztest des T-Test, ANOVA und Chi-Square Test aufgestellt. Diese Erklärungen und Idee der Hypothesen kann man im Detail im Chapter 2 nachlesen. Nach jeder Analyse wurden die Ergebnisse als Ausgabe angezeigt. Anschließend wurde eine Ergebnisinterpretation durchgeführt. Die detaillierte Ergebnisinterpretation kann man im Chapter 2 vertieft durchlesen.\n",
    "\n",
    "Danach wurden die Daten für die Testszenarien bereinigt, gefiltert und zusammengestellt.\n",
    "\n",
    "Im generellen kann für das Finale Report folgendes aus den Testszenarien zusammengefasst werden:\n",
    "\n",
    "__Die These für den T-Test sind folgende__:\n",
    "   * Nullhypothese (H0): Es besteht keine statistisch signifikante Beziehung zwischen den Adj. Closed Price des MSCI World und dem Leitzins der EU-Zentralbank. Der Leitzins der EU-Zentralbank hat keinen signifikanten Einfluss auf den Adj. Closed Price des Aktienmarktes\n",
    "   * Alternativhypothese (H1): Es besteht eine statistisch signifikante Beziehung zwischen Adj. Closed Price des MSCI World und dem Leitzins der EU-Zentralbank. Der Leitzins der EU-Zentralbank hat einen signifikanten Einfluss auf den Adj. Closed Price des Aktienmarktes\n",
    "\n",
    "__Das Ergebnis des T-Tests__:\n",
    "Da der p-Wert bei 1.2835205117325122e-62 beträgt und somit unter den Signifikanzniveau von 0,05 liegt, haben wir ausreichende Beweise, um die Nullhypothese abzulehnen. Das bedeutet, dass die H0 Hypothese abgelehnt werden kann. Hingegen unterstützt das Ergebnis die Alternativhypothese und deutet darauf hin, dass der Leitzins der EU-Zentralbank einen signifikanten Einfluss auf den Adj. Closed Price des MSCI World hat.\n",
    "\n",
    "__Die These für den Anova-Test sind folgende__:\n",
    "   * Nullhypothese (H0): Es besteht keine statistisch signifikante Beziehung zwischen den Closed Adj.Value des MSCI World und dem Leitzins der FED. Der Leitzins der FED hat keinen signifikanten Einfluss auf den Closed Adj.Value des Aktienmarktes\n",
    "   * Alternativhypothese (H1): Es besteht eine statistisch signifikante Beziehung zwischen Closed Adj.Value des MSCI World und dem Leitzins der FED. Der Leitzins der FED hat einen signifikanten Einfluss auf den Closed Adj.Value des Aktienmarktes\n",
    "\n",
    "__Das Ergebnis Anova-Test__:\n",
    "Aus dem Ergebnis des durchschnittliche p-value Werts von 8.113382423599491e-136, welches sehr klein ist, kann nun interpretiert werden, dass man die Nullhypothese (H0) ablehnt und die Alternativhypothese (H1) akzeptiert.\n",
    "\n",
    "__Die These für den Chi-Quadrat-Tests sind folgende__:\n",
    "   * Nullhypothese (H0): Es besteht kein Zusammenhang zwischen der Rendite des ETFs und den Währungsumtauschdaten.\n",
    "   * Alternativhypothese (HA): Es besteht ein Zusammenhang zwischen der Rendite des ETFs und den Währungsumtauschdaten.\n",
    "\n",
    "__Das Ergebnis Chi-Quadrat-Tests__:\n",
    "Aus den sehr kleinen p-Wert, welches unter den Signifikanzniveau von 0,05, kann die Nullhypothese verworfen werden. Dies deutet darauf hin, dass es einen statistisch signifikanten Zusammenhang zwischen der Rendite des ETFs und den Währungsumtauschdaten gibt. Die Alternativhypothese kann daher angenommen werden, was bedeutet, dass die Rendite des ETFs tatsächlich von den Währungsumtauschdaten beeinflusst wird."
   ],
   "metadata": {
    "collapsed": false
   }
  },
  {
   "cell_type": "markdown",
   "source": [
    "## Review (34)"
   ],
   "metadata": {
    "collapsed": false
   }
  },
  {
   "cell_type": "code",
   "execution_count": null,
   "outputs": [],
   "source": [],
   "metadata": {
    "collapsed": false
   }
  }
 ],
 "metadata": {
  "kernelspec": {
   "display_name": "Python 3",
   "language": "python",
   "name": "python3"
  },
  "language_info": {
   "codemirror_mode": {
    "name": "ipython",
    "version": 2
   },
   "file_extension": ".py",
   "mimetype": "text/x-python",
   "name": "python",
   "nbconvert_exporter": "python",
   "pygments_lexer": "ipython2",
   "version": "2.7.6"
  }
 },
 "nbformat": 4,
 "nbformat_minor": 0
}
