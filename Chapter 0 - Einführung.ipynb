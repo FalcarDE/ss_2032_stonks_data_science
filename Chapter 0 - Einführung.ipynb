{
 "cells": [
  {
   "cell_type": "markdown",
   "source": [
    "# Business Understanding\n",
    "\n",
    "Um den Mehrwert und Zusammenhang ETF's und Data Science verstehen zu können, müssen meiner Meinung nach folgenden Fragen zunächst beantwortet werden.\n",
    "\n",
    "**Alle Bilder und Erklärungen zur Business Understanding wurden in der Auftaktpräsentation & Abschlusspräsentation vorgestellt und beschrieben. Diese kann man unter** [Ordner Docs in den Präsentationen finden](./docs)\n",
    "\n",
    "## Was ist ein ETF?\n",
    "\n",
    "<img src= \"./images/Chapter0/Business_Understanding_1.png\"  width=\"950\" ><br>\n",
    "\n",
    "## Was bildet dieses Projekt ab und welche Schnittmengen haben Data Science mit ETF?\n",
    "\n",
    "In diesem Projekt wird der iShares Core MSCI World UCITS ETF mittels der CRUSP-DM (Cross Industry Standard Process for Data Mining) verfahren untersucht und interpreter. Von Chapter 1 bis 3 findet die Datenuntersuchung, -verstädnis und -analysen durchgeführt und Anhand der Ergebnisse wird dann im Chapte 4 - Final Report zusammengefasst.\n",
    "\n",
    "ETF haben viele verschiedene Einflussgrößen die einen signifikaten Einfluss aus die Zielgröße haben. Die Zielgröße in diesem Projekt wird die Rendinte und Adj. Close Value des iShares Core MSCI World UCITS ETF sein. Die Einflussgrößen sind Beispielsweise der Leitzins für Banken der FED, Leitzins der EZB, etc.\n",
    "<br>\n",
    "<img src= \"./images/Chapter0/Business_Understanding_0.png\"  width=\"950\" ><br>"
   ],
   "metadata": {
    "collapsed": false
   }
  },
  {
   "cell_type": "markdown",
   "source": [
    "## Auswahl der Datensätze (24, 29)\n",
    "Wie bereits in den Folien der Auftakt- als auch Abschlusspräsentation beschrieben, werden folgenden Datensätze genutzt. (Siehe Screenshot oder Folien Auftaktpräsentation/Abschlusspräsentation\n",
    "\n",
    "<br>\n",
    "\n",
    "<img src= \"./images/Chapter0/datasets.png\"  width=\"950\" ><br>\n",
    "<img src= \"./images/Chapter0/datasets1.png\" width=\"950\"><br>\n",
    "<img src= \"./images/Chapter0/datasets2.png\" width=\"950\"><br>\n",
    "<img src= \"./images/Chapter0/datasets3.png\" width=\"950\"><br>\n"
   ],
   "metadata": {
    "collapsed": false
   }
  },
  {
   "cell_type": "markdown",
   "source": [
    "## Business Objectives & Business Success Criteria (25,26)\n",
    "\n",
    "ETF gehören zu der Klasse der Aktien, hier gelten im generellen diesem folgenden wichtigen Business Objectives:\n",
    "\n",
    "<br>\n",
    "<img src= \"./images/Chapter0/Business_Objectives_Business_Success_Criteria.png\"  width=\"950\" ><br>\n",
    "\n",
    "Die Business Success Criteria leiten sich aus den Business Objectives ab. Mittels der verschiedene Analysen sollte es für den Anleger ein bessere Verständnis über:\n",
    "* den Aktienmarkt und seine Abhängigkeiten\n",
    "* Diversifikation\n",
    "* Risiken & Risikoreduktion\n",
    "* Portfolio-Optimierung mit verschiedene Strategien\n",
    "\n",
    "\n",
    "\n"
   ],
   "metadata": {
    "collapsed": false
   }
  },
  {
   "cell_type": "markdown",
   "source": [
    "## Data Mining Goals & Data Mining Success Criteria\n",
    "Aus den im vorherigen Punkt beschriebenen Erklärung zwischen Data Science und ETF, sowie die Auswahl der Datensätze werden folgende Data Mining Goals & Data Mining Success Criteria definiert:\n",
    "\n",
    "<img src= \"./images/Chapter0/Business_Objectives_Business_Success_Criteria_1.png\"  width=\"950\" ><br>"
   ],
   "metadata": {
    "collapsed": false
   }
  }
 ],
 "metadata": {
  "kernelspec": {
   "display_name": "Python 3",
   "language": "python",
   "name": "python3"
  },
  "language_info": {
   "codemirror_mode": {
    "name": "ipython",
    "version": 2
   },
   "file_extension": ".py",
   "mimetype": "text/x-python",
   "name": "python",
   "nbconvert_exporter": "python",
   "pygments_lexer": "ipython2",
   "version": "2.7.6"
  }
 },
 "nbformat": 4,
 "nbformat_minor": 0
}
