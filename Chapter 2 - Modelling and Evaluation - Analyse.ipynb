{
 "cells": [
  {
   "cell_type": "markdown",
   "source": [
    "# Chapter 2: Modelling and Evaluation - Analyse"
   ],
   "metadata": {
    "collapsed": false
   }
  },
  {
   "cell_type": "code",
   "execution_count": 2,
   "metadata": {
    "execution": {
     "iopub.execute_input": "2022-04-26T19:41:55.755085Z",
     "iopub.status.busy": "2022-04-26T19:41:55.754759Z",
     "iopub.status.idle": "2022-04-26T19:41:57.008376Z",
     "shell.execute_reply": "2022-04-26T19:41:57.007576Z"
    },
    "ExecuteTime": {
     "start_time": "2023-06-30T00:19:39.430149Z",
     "end_time": "2023-06-30T00:19:41.551285Z"
    }
   },
   "outputs": [],
   "source": [
    "%matplotlib inline\n",
    "\n",
    "from pathlib import Path\n",
    "import random\n",
    "\n",
    "import pandas as pd\n",
    "import numpy as np\n",
    "\n",
    "from scipy import stats\n",
    "import statsmodels.api as sm\n",
    "import statsmodels.formula.api as smf\n",
    "from statsmodels.stats import power\n",
    "\n",
    "import matplotlib.pylab as plt"
   ]
  },
  {
   "cell_type": "code",
   "execution_count": 3,
   "metadata": {
    "execution": {
     "iopub.execute_input": "2022-04-26T19:41:57.011631Z",
     "iopub.status.busy": "2022-04-26T19:41:57.011384Z",
     "iopub.status.idle": "2022-04-26T19:41:57.328759Z",
     "shell.execute_reply": "2022-04-26T19:41:57.328082Z"
    },
    "ExecuteTime": {
     "start_time": "2023-06-30T00:19:42.253378Z",
     "end_time": "2023-06-30T00:19:42.280235Z"
    }
   },
   "outputs": [],
   "source": [
    "etf_daily = pd.read_csv('data/iShares Core MSCI World UCITS ETF USD  EUNL.DE.csv')\n",
    "etf_monthly = pd.read_csv('data/iShares Core MSCI World UCITS ETF USD (Acc)_Monthly.csv')\n",
    "fed_funds = pd.read_csv('data/Leitzins_USA_FED_Banken.csv')"
   ]
  },
  {
   "cell_type": "markdown",
   "metadata": {},
   "source": [
    "## Statistical Significance Test and P-Values"
   ]
  },
  {
   "cell_type": "markdown",
   "metadata": {},
   "source": [
    "## t-Tests\n",
    "\n",
    "### Idee und Hypothosen\n",
    "\n",
    "Aus den Korrelationsdaten und das Streudiagramm konnte man einen Zusammenhang zwischen dem Leitzins der EZB und den Adj Close Value des ETFs erkennen.\n",
    "\n",
    "Daraus wurden folgende Hypothesen erstellt:\n",
    "\n",
    "* Nullhypothese (H0): Es besteht keine statistisch signifikante Beziehung zwischen den Closed Adj.Value des MSCI World und dem Leitzins der EU-Zentralbank. Der Leitzins der EU-Zentralbank hat keinen signifikanten Enfluss auf den Closed Adj.Value des Aktienmarktes\n",
    "* Alternativhypothese (H1): Es besteht eine statistisch signifikante Beziehung zwischen Closed Adj.Value des MSCI World und dem Leitzins der EU-Zentralbank. Der Leitzins der EU-Zentralbankhat hat einen signifikanten Enfluss auf den Closed Adj.Value des Aktienmarktes"
   ]
  },
  {
   "cell_type": "code",
   "execution_count": 11,
   "metadata": {
    "execution": {
     "iopub.execute_input": "2022-04-26T19:42:21.729209Z",
     "iopub.status.busy": "2022-04-26T19:42:21.728975Z",
     "iopub.status.idle": "2022-04-26T19:42:21.735487Z",
     "shell.execute_reply": "2022-04-26T19:42:21.734555Z"
    },
    "ExecuteTime": {
     "start_time": "2023-06-30T02:20:05.377892Z",
     "end_time": "2023-06-30T02:20:05.774975Z"
    }
   },
   "outputs": [
    {
     "name": "stdout",
     "output_type": "stream",
     "text": [
      "t-Statistic: 159.82185338543297\n",
      "p-value: 0.0\n"
     ]
    },
    {
     "data": {
      "text/plain": "<Figure size 640x480 with 1 Axes>",
      "image/png": "[encoded data removed]"
     },
     "metadata": {},
     "output_type": "display_data"
    },
    {
     "name": "stdout",
     "output_type": "stream",
     "text": [
      "\n",
      "Durchschnittliche Werte:\n",
      "Durchschnittliche t-Statistik: 160.43015661144207\n",
      "Durchschnittlicher p-Wert: 0.0\n"
     ]
    }
   ],
   "source": [
    "etf_daily = pd.read_csv('data/iShares Core MSCI World UCITS ETF USD (Acc)_Monthly.csv')\n",
    "EZB_Funds = pd.read_csv('data/leitzins Europa.csv')\n",
    "\n",
    "eu_funds_sorted = EZB_Funds.sort_values(by='Date')\n",
    "eu_funds_sorted.to_csv('data/generatedDatasets/leitzins Europa_sorted.csv', index=False)\n",
    "\n",
    "# Werte für den t-Test extrahieren\n",
    "etf_filtered = etf_daily.loc[(etf_daily['Date'] >= '2009-09-25') & (etf_daily['Date'] <= '2023-06-01'), ['Date', 'Adj Close']]\n",
    "eu_funds_filtered = eu_funds_sorted.loc[(eu_funds_sorted['Date'] >= '2009-09-25') & (eu_funds_sorted['Date'] <= '2023-06-01'), ['Date', 'Percent per annum']]\n",
    "\n",
    "etf_filtered.dropna(inplace=True)\n",
    "eu_funds_filtered.dropna(inplace=True)\n",
    "\n",
    "# print(etf_filtered)\n",
    "# print(eu_funds_filtered)\n",
    "\n",
    "# t-Test durchführen\n",
    "t_statistic, p_value = stats.ttest_ind(etf_filtered['Adj Close'], eu_funds_filtered['Percent per annum'])\n",
    "\n",
    "# Ausgabe der Ergebnisse\n",
    "print(\"t-Statistic:\", t_statistic)\n",
    "print(\"p-value:\", p_value)\n",
    "\n",
    "\n",
    "data = [etf_filtered['Adj Close'], eu_funds_filtered['Percent per annum']]\n",
    "\n",
    "# Boxplot erstellen\n",
    "plt.boxplot(data, labels=['ETF Adj Close', 'Leitzins Europa'])\n",
    "plt.ylabel('Werte')\n",
    "plt.title('Ergebnisse des t-Tests')\n",
    "plt.show()\n",
    "\n",
    "# -------------------------------------------------------------------------------------------------------\n",
    "# Bootstrap-Sampling\n",
    "num_bootstrap_samples = 1000\n",
    "bootstrap_samples = []\n",
    "\n",
    "for _ in range(num_bootstrap_samples):\n",
    "    sample_etf = np.random.choice(etf_filtered['Adj Close'], size=len(etf_filtered), replace=True)\n",
    "    sample_eu_funds = np.random.choice(eu_funds_filtered['Percent per annum'], size=len(eu_funds_filtered), replace=True)\n",
    "    bootstrap_samples.append((sample_etf, sample_eu_funds))\n",
    "\n",
    "# print(bootstrap_samples)\n",
    "\n",
    "# t-Test für Bootstrap-Samples durchführen\n",
    "t_test_results = []\n",
    "\n",
    "for sample_etf, sample_eu_funds in bootstrap_samples:\n",
    "    t_statistic, p_value = stats.ttest_ind(sample_etf, sample_eu_funds)\n",
    "    t_test_results.append((t_statistic, p_value))\n",
    "\n",
    "# Durchschnittliche t-Statistik und p-Wert berechnen\n",
    "average_t_value = np.mean([result[0] for result in t_test_results])\n",
    "average_p_value = np.mean([result[1] for result in t_test_results])\n",
    "\n",
    "# Ausgabe der Ergebnisse\n",
    "print()\n",
    "print(\"Durchschnittliche Werte:\")\n",
    "print(\"Durchschnittliche t-Statistik:\", average_t_value)\n",
    "print(\"Durchschnittlicher p-Wert:\", average_p_value)\n"
   ]
  },
  {
   "cell_type": "markdown",
   "source": [
    "### Ergebnis\n",
    "Die t-Statistik beträgt 160.4640825452364 und die durchschnittliche t-Statistik beträgt 160.68733124355262. Dies deutet darauf hin, dass es eine starke statistische Abweichung zwischen den Adj. Close-Werten und den Leitzins-Werten gibt.\n",
    "\n",
    "Der (durchschnittliche) p-Wert liegt 0.0. Dies deutet darauf hin, dass die Unterschiede zwischen den Adj. Close-Werten und den Leitzins-Werten höchstwahrscheinlich nicht zufällig und statistisch signifikant sind.\n",
    "\n",
    "Da der p-Wert bei 0 ist, haben wir ausreichende Beweise, um die Nullhypothese abzulehnen. Das bedeutet, dass die H0 Hypothese ablehnen können. Hingegen unterstützt das Ergebnis die Alternativhypothese und deutet darauf hin, dass der Leitzins der EU-Zentralbank einen signifikanten Einfluss auf den Closed Adj.Value des MSCI World hat."
   ],
   "metadata": {
    "collapsed": false
   }
  },
  {
   "cell_type": "markdown",
   "metadata": {},
   "source": [
    "## ANOVA\n",
    "\n",
    "### Idee und Hypothesen\n",
    "\n",
    "Aus den Korrelationsdaten und das Streudiagramm konnte man einen Zusammenhang zwischen dem Leitzins der FED für Banken und den Adj Close Value des ETFs erkennen.\n",
    "\n",
    "Daraus wurden folgende Hypothesen erstellt:\n",
    "\n",
    "* Nullhypothese (H0): Es besteht keine statistisch signifikante Beziehung zwischen den Closed Adj.Value des MSCI World und dem Leitzins der FED. Der Leitzins der FED hat keinen signifikanten Einfluss auf den Closed Adj.Value des Aktienmarktes\n",
    "* Alternativhypothese (H1): Es besteht eine statistisch signifikante Beziehung zwischen Closed Adj.Value des MSCI World und dem Leitzins der FED. Der Leitzins der FED hat einen signifikanten Einfluss auf den Closed Adj.Value des Aktienmarktes"
   ]
  },
  {
   "cell_type": "code",
   "execution_count": 12,
   "outputs": [
    {
     "name": "stdout",
     "output_type": "stream",
     "text": [
      "f_statistic: 858.7902100887729\n",
      "p-value: 4.098098743618331e-93\n",
      "\n",
      "Durchschnittliche Werte:\n",
      "Durchschnittliche F-Statistic: 868.4648661858745\n",
      "Durchschnittlicher p-value: 1.6905079694407086e-82\n"
     ]
    }
   ],
   "source": [
    "# Daten einlesen\n",
    "etf_monthly = pd.read_csv('data/iShares Core MSCI World UCITS ETF USD (Acc)_Monthly.csv')\n",
    "fed_funds = pd.read_csv('data/Leitzins_USA_FED_Banken.csv')\n",
    "\n",
    "# Werte für den t-Test extrahieren\n",
    "etf_filtered = etf_monthly.loc[(etf_monthly['Date'] >= '2009-10-01') & (etf_monthly['Date'] <= '2023-04-01'), ['Date', 'Adj Close']]\n",
    "fed_funds_filtered = fed_funds.loc[(fed_funds['DATE'] >= '2009-10-01') & (fed_funds['DATE'] <= '2023-04-01'), ['DATE', 'FEDFUNDS']]\n",
    "\n",
    "# Daten zusammenführen\n",
    "etf_fedfunds_filtered_combined = pd.merge(etf_filtered, fed_funds_filtered, left_on='Date', right_on='DATE',  how='inner')\n",
    "etf_fedfunds_filtered_combined.drop('DATE', axis=1, inplace=True)\n",
    "etf_fedfunds_filtered_combined.drop('Date', axis=1, inplace=True)\n",
    "\n",
    "\n",
    "etf_fedfunds_filtered_combined.to_csv('data/generatedDatasets/fed_funds_filtered.csv', index=False)\n",
    "\n",
    "#Anova Test\n",
    "\n",
    "anova_result = stats.f_oneway(etf_fedfunds_filtered_combined['Adj Close'], etf_fedfunds_filtered_combined['FEDFUNDS'])\n",
    "print('f_statistic:', anova_result.statistic)\n",
    "print('p-value:', anova_result.pvalue)\n",
    "\n",
    "# ------------------------------\n",
    "# Bootstrap-Sampling\n",
    "num_bootstrap_samples = 1000\n",
    "bootstrap_samples = []\n",
    "\n",
    "for _ in range(num_bootstrap_samples):\n",
    "    sample = etf_fedfunds_filtered_combined.sample(frac=1, replace=True)\n",
    "    bootstrap_samples.append(sample)\n",
    "\n",
    "# Ergebnisse des Anova-Tests für jedes Bootstrap-Sample speichern\n",
    "anova_results = []\n",
    "for sample in bootstrap_samples:\n",
    "    anova_result = stats.f_oneway(sample['Adj Close'], sample['FEDFUNDS'])\n",
    "    anova_results.append(anova_result)\n",
    "\n",
    "# Ergebnisse anzeigen\n",
    "#for i, sample in enumerate(bootstrap_samples):\n",
    "#    print(f\"Bootstrap Sample {i+1}:\")\n",
    "#    print(sample)\n",
    "#    print(\"\\n\")\n",
    "#\n",
    "#    # Boxplot für das Bootstrap-Sample erstellen\n",
    "#    plt.figure(figsize=(6, 4))\n",
    "#    plt.boxplot(sample['Adj Close'])\n",
    "#    plt.title(f\"Bootstrap Sample {i+1}\")\n",
    "#    plt.ylabel(\"Value\")\n",
    "#    plt.show()\n",
    "\n",
    "# Durchschnitt der F-Statistik und des p-Wertes berechnen\n",
    "f_statistic_avg = np.mean([result.statistic for result in anova_results])\n",
    "p_value_avg = np.mean([result.pvalue for result in anova_results])\n",
    "\n",
    "# Ergebnisse anzeigen\n",
    "print()\n",
    "print(\"Durchschnittliche Werte:\")\n",
    "print(\"Durchschnittliche F-Statistic:\", f_statistic_avg)\n",
    "print(\"Durchschnittlicher p-value:\", p_value_avg)\n"
   ],
   "metadata": {
    "collapsed": false,
    "ExecuteTime": {
     "start_time": "2023-06-30T02:20:08.401471Z",
     "end_time": "2023-06-30T02:20:08.671404Z"
    }
   }
  },
  {
   "cell_type": "markdown",
   "source": [
    "### Ergebnis\n",
    "Die durchschnittliche F-Statistic beträgt 870.0604708441825. Dies deutet darauf hin, dass es eine starke statistische Abweichung zwischen den Adj. Close-Werten und den FED Leitzins-Werten gibt.\n",
    "\n",
    "Der durchschnittliche p-Wert beträgt 3.3925782813532164e-85, dieser Wert liegt sehr nahe beim Wert Null. Dies deutet darauf hin, dass die Unterschiede zwischen den Adj. Close-Werten und den Leitzins-Werten höchstwahrscheinlich nicht zufällig und statistisch signifikant sind.\n",
    "\n",
    "Aus den Ergebnissen des ANOVA-Tests kann nun interpretiert werden, dass Angesichts des kleinen p-Werts kann man die Nullhypothese (H0) ablehnen und akzeptieren die Alternativhypothese (H1). Dies bedeutet, dass es eine statistisch signifikante Beziehung zwischen dem Closed Adj.Value des MSCI World und dem Leitzins der FED gibt, und der Leitzins der FED einen signifikanten Einfluss auf den Closed Adj.Value des Aktienmarktes hat.\n",
    "\n",
    "Die Durchschnittswerte der F-Statistik und des p-Werts über die Bootstrap-Samples unterstützen ebenfalls die Schlussfolgerung, dass H1 zutrifft. Der Durchschnitt der F-Statistik liegt bei 868.4648661858745 und der Durchschnitt des p-Werts bei 1.6905079694407086e-82."
   ],
   "metadata": {
    "collapsed": false
   }
  },
  {
   "cell_type": "markdown",
   "metadata": {},
   "source": [
    "## Chi-Square Test"
   ]
  },
  {
   "cell_type": "markdown",
   "source": [
    "### Erklärung und Idee\n",
    "Definition der Hypothesen:\n",
    "   * Nullhypothese (H0): Es besteht kein Zusammenhang zwischen der Rendite des ETFs und den Währungsumtauschdaten.\n",
    "   * Alternativhypothese (HA): Es besteht ein Zusammenhang zwischen der Rendite des ETFs und den Währungsumtauschdaten.\n",
    "\n",
    "Um einen Chi-Quadrat-Test auf die Rendite eines ETFs und die Währungsumtauschdaten durchzuführen, müssen die Variablen kategorische oder diskrete Werte haben, damit der Chi-Quadrat-Test angewendet werden kann.\n",
    "\n",
    "Dafür müssen kontinuierlichen Daten der Rendite und Währungsumtausch in kategorische oder diskrete Werte konvertiertt werden. Hierbei werden die Häufigkeiten der Kombinationen von Werten aus den Spalten 'Daily Return' und 'USD_EUR_Exch_Rate' zu einer Kontingenztabelle zusammengestellt.\n",
    "\n",
    "Nachdem nun eine Kontingenztabelle erstellt wurde, kann ein Chi-Quadrat-Test durchgeführt werden."
   ],
   "metadata": {
    "collapsed": false
   }
  },
  {
   "cell_type": "code",
   "execution_count": 13,
   "metadata": {
    "execution": {
     "iopub.execute_input": "2022-04-26T19:42:28.126433Z",
     "iopub.status.busy": "2022-04-26T19:42:28.126032Z",
     "iopub.status.idle": "2022-04-26T19:42:28.132714Z",
     "shell.execute_reply": "2022-04-26T19:42:28.131972Z"
    },
    "ExecuteTime": {
     "start_time": "2023-06-30T02:20:12.930365Z",
     "end_time": "2023-06-30T02:22:13.723508Z"
    }
   },
   "outputs": [
    {
     "name": "stdout",
     "output_type": "stream",
     "text": [
      "USD_EUR_Exch_Rate  -  100.0110  100.0808  100.1021  100.1221  100.1263   \n",
      "Daily Return                                                             \n",
      "-9.645888          0         0         0         0         0         0  \\\n",
      "-6.962070          0         0         0         0         0         0   \n",
      "-6.241285          0         0         0         0         0         0   \n",
      "-5.531267          0         0         0         0         0         0   \n",
      "-5.090909          0         0         0         0         0         0   \n",
      "...               ..       ...       ...       ...       ...       ...   \n",
      " 3.684983          0         0         0         0         0         0   \n",
      " 3.846159          0         0         0         0         0         0   \n",
      " 4.355862          0         0         0         0         0         0   \n",
      " 5.418872          0         0         0         0         0         0   \n",
      " 8.219081          0         0         0         0         0         0   \n",
      "\n",
      "USD_EUR_Exch_Rate  100.1467  100.1628  100.2019  100.2378  ...  99.8097   \n",
      "Daily Return                                               ...            \n",
      "-9.645888                 0         0         0         0  ...        0  \\\n",
      "-6.962070                 0         0         0         0  ...        0   \n",
      "-6.241285                 0         0         0         0  ...        0   \n",
      "-5.531267                 0         0         0         0  ...        0   \n",
      "-5.090909                 0         0         0         0  ...        0   \n",
      "...                     ...       ...       ...       ...  ...      ...   \n",
      " 3.684983                 0         0         0         0  ...        0   \n",
      " 3.846159                 0         0         0         0  ...        0   \n",
      " 4.355862                 0         0         0         0  ...        0   \n",
      " 5.418872                 0         0         0         0  ...        0   \n",
      " 8.219081                 0         0         0         0  ...        0   \n",
      "\n",
      "USD_EUR_Exch_Rate  99.8934  99.9262  99.9303  99.9357  99.9616  99.9667   \n",
      "Daily Return                                                              \n",
      "-9.645888                0        0        0        0        0        0  \\\n",
      "-6.962070                0        0        0        0        0        0   \n",
      "-6.241285                0        0        0        0        0        0   \n",
      "-5.531267                0        0        0        0        0        0   \n",
      "-5.090909                0        0        0        0        0        0   \n",
      "...                    ...      ...      ...      ...      ...      ...   \n",
      " 3.684983                0        0        0        0        0        0   \n",
      " 3.846159                0        0        0        0        0        0   \n",
      " 4.355862                1        0        0        0        0        0   \n",
      " 5.418872                0        0        0        0        0        0   \n",
      " 8.219081                0        0        0        0        0        0   \n",
      "\n",
      "USD_EUR_Exch_Rate  99.9719  99.9740  99.9853  \n",
      "Daily Return                                  \n",
      "-9.645888                0        0        0  \n",
      "-6.962070                0        0        0  \n",
      "-6.241285                0        0        0  \n",
      "-5.531267                0        0        0  \n",
      "-5.090909                0        0        0  \n",
      "...                    ...      ...      ...  \n",
      " 3.684983                0        0        0  \n",
      " 3.846159                0        0        0  \n",
      " 4.355862                0        0        0  \n",
      " 5.418872                0        0        0  \n",
      " 8.219081                0        0        0  \n",
      "\n",
      "[3330 rows x 3410 columns]\n",
      "Chi-Quadrat-Statistik: 11349385.046296302\n",
      "p-Wert: 0.4312848691936564\n",
      "\n",
      "Durchschnittliche Werte:\n",
      "Mittelwert der Chi-Quadrat-Statistiken: 7213240.612425654\n",
      "Mittelwert der p-Werte: 0.0\n"
     ]
    }
   ],
   "source": [
    "# TODO: Fragen nach Ergebnis!\n",
    "\n",
    "etf_with_return = pd.read_csv('data/generatedDatasets/iShares Core MSCI World UCITS ETF USD (Acc) Daily - Rendite.csv')\n",
    "usd_eur_exchange = pd.read_csv('data/generatedDatasets/ERR_USD_Clean.csv')\n",
    "\n",
    "etf_with_return_filtered = etf_with_return.loc[(etf_with_return['Date'] >= '2009-09-25') & (etf_with_return['Date'] <= '2023-06-01'), ['Date', 'Daily Return']]\n",
    "usd_eur_exchange_filtered = usd_eur_exchange.loc[(usd_eur_exchange['Date'] >= '2009-09-25') & (usd_eur_exchange['Date'] <= '2023-06-01'), ['Date', 'ECB Nominal effective exch. rate of the US dollar against Narrow EER group of trading partners (fixed composition): EER-12']]\n",
    "\n",
    "# Ersetzen des Strings '-' durch NaN\n",
    "# usd_eur_exchange_filtered['ECB Nominal effective exch. rate of the US dollar against Narrow EER group of trading partners (fixed composition): EER-12'] = usd_eur_exchange_filtered['ECB Nominal effective exch. rate of the US dollar against Narrow EER group of trading partners (fixed composition): EER-12'].replace('-', float('nan'))\n",
    "\n",
    "combined_etf_currency_data = pd.merge(etf_with_return_filtered, usd_eur_exchange_filtered, on='Date')\n",
    "\n",
    "combined_etf_currency_data = combined_etf_currency_data.dropna(subset=['ECB Nominal effective exch. rate of the US dollar against Narrow EER group of trading partners (fixed composition): EER-12'])\n",
    "\n",
    "# Tabellenkopf Bezeichnung kürzen\n",
    "combined_etf_currency_data = combined_etf_currency_data.rename(columns={'ECB Nominal effective exch. rate of the US dollar against Narrow EER group of trading partners (fixed composition): EER-12': 'USD_EUR_Exch_Rate'})\n",
    "\n",
    "# Sortieren der Daten nach dem Datum\n",
    "combined_etf_currency_data.sort_values('Date', inplace=True)\n",
    "\n",
    "# Kontingenztabelle erstellen\n",
    "contingency_table = pd.crosstab(combined_etf_currency_data['Daily Return'], combined_etf_currency_data['USD_EUR_Exch_Rate'])\n",
    "\n",
    "# print(etf_with_return_filtered)\n",
    "# print(usd_eur_exchange_filtered)\n",
    "\n",
    "# DataFrame erstellen\n",
    "contingency_table_df = pd.DataFrame(contingency_table)\n",
    "\n",
    "# DataFrame ausgeben\n",
    "print(contingency_table_df)\n",
    "\n",
    "combined_etf_currency_data.to_csv('data/generatedDatasets/combined_etf_currency_data.csv', index=False)\n",
    "\n",
    "# Chi-Quadrat-Test durchführen\n",
    "chi2, p_value, dof, expected = stats.chi2_contingency(contingency_table)\n",
    "\n",
    "# Ergebnisse anzeigen\n",
    "print(\"Chi-Quadrat-Statistik:\", chi2)\n",
    "print(\"p-Wert:\", p_value)\n",
    "\n",
    "# ---------------------------------------------\n",
    "\n",
    "# Anzahl der Bootstraps\n",
    "num_bootstraps = 200\n",
    "\n",
    "# Speicher Arrays für die p-values und chi-qrt_values\n",
    "bootstrap_chi2_values = []\n",
    "bootstrap_p_values = []\n",
    "\n",
    "for i in range(num_bootstraps):\n",
    "    # Zufällige Stichprobe mit Zurücklegen aus den Daten ziehen\n",
    "    bootstrap_sample = combined_etf_currency_data.sample(frac=1, replace=True)\n",
    "\n",
    "    # Erstellen der Kontingenztabelle für die Bootstrap-Stichprobe\n",
    "    bootstrap_contingency_table = pd.crosstab(bootstrap_sample['Daily Return'], bootstrap_sample['USD_EUR_Exch_Rate'])\n",
    "\n",
    "    # Durchführung des Chi-Quadrat-Tests für die Bootstrap-Stichprobe --> gib noch \"Freiheitsgrade\" und Erwartete Häufigkeiten zurück, wird aber nicht gebraucht\n",
    "    bootstrap_chi2, bootstrap_p_value, _, _ = stats.chi2_contingency(bootstrap_contingency_table)\n",
    "\n",
    "    # Speichern der Ergebnisse in den Listen\n",
    "    bootstrap_chi2_values.append(bootstrap_chi2)\n",
    "    bootstrap_p_values.append(bootstrap_p_value)\n",
    "\n",
    "# Berechnung des Mittelwerts der Chi-Quadrat-Statistiken und p-Werte\n",
    "mean_chi2 = np.mean(bootstrap_chi2_values)\n",
    "mean_p_value = np.mean(bootstrap_p_values)\n",
    "\n",
    "# Ergebnisse anzeigen\n",
    "print()\n",
    "print(\"Durchschnittliche Werte:\")\n",
    "print(\"Mittelwert der Chi-Quadrat-Statistiken:\", mean_chi2)\n",
    "print(\"Mittelwert der p-Werte:\", mean_p_value)\n",
    "\n"
   ]
  },
  {
   "cell_type": "markdown",
   "source": [
    "### Ergebnis Interpretation\n",
    "Im vorliegenden Fall beträgt der p-Wert 0.4312848691936564 und der Mittelwert der p-Werte: 0.4312848691936564\n",
    "\n",
    "Hier kann man herausfiltern, dass die Wahrscheinlichkeit, die beobachteten Abweichungen zwischen der Rendite des ETFs und den Währungsumtauschdaten rein zufällig zu erhalten, bei etwa 43,1% liegt.\n",
    "\n",
    "Da der p-Wert somit größer als das übliche Signifikanzniveau von 0,05 ist, haben wir keine ausreichenden statistischen Beweise, um die Nullhypothese abzulehnen. Damit kann man also interpretieren, dass kein Zusammenhang zwischen der Rendite des ETFs und den Währungsumtauschdaten bestehen.\n",
    "\n",
    "Aus den Ergebnissen des Qui-Quadrat-Tests kann nun interpretiert werden, dass Angesichts des hohen p-Wertes kann die Nullhypothese (H0) angenommen werden und die Alternativhypothese (H1) abgelehnt werden. Es besteht also kein Zusammenhang zwischen der Rendite des ETFs und den Währungsumtauschdaten.\n",
    "\n",
    "Wenn man sich jedoch den Mittelwert der p-Werte anschaut, beträgt die p-value = 0.0 (aus Bootstrap-Iterationen). Damit kann man interpretieren, dass in keiner der Bootstrap-Stichproben eine Abweichung zwischen den Variablen auf Zufall beruhte. Diese Ergebnisse könnten darauf hindeuten, dass die Alternativehypothese unterstützt wird und ein Zusammenhang zwischen der Rendite des ETFs und den Währungsumtauschdaten besteht."
   ],
   "metadata": {
    "collapsed": false
   }
  }
 ],
 "metadata": {
  "kernelspec": {
   "display_name": "Python 3 (ipykernel)",
   "language": "python",
   "name": "python3"
  },
  "language_info": {
   "codemirror_mode": {
    "name": "ipython",
    "version": 3
   },
   "file_extension": ".py",
   "mimetype": "text/x-python",
   "name": "python",
   "nbconvert_exporter": "python",
   "pygments_lexer": "ipython3",
   "version": "3.9.10"
  }
 },
 "nbformat": 4,
 "nbformat_minor": 2
}
