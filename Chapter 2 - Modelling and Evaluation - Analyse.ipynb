{
 "cells": [
  {
   "cell_type": "markdown",
   "metadata": {},
   "source": [
    "# Chapter 2: Modelling and Evaluation - Analyse"
   ]
  },
  {
   "cell_type": "code",
   "execution_count": 36,
   "metadata": {
    "execution": {
     "iopub.execute_input": "2022-04-26T19:41:55.755085Z",
     "iopub.status.busy": "2022-04-26T19:41:55.754759Z",
     "iopub.status.idle": "2022-04-26T19:41:57.008376Z",
     "shell.execute_reply": "2022-04-26T19:41:57.007576Z"
    },
    "ExecuteTime": {
     "end_time": "2023-07-13T23:04:05.639422100Z",
     "start_time": "2023-07-13T23:04:05.574982700Z"
    }
   },
   "outputs": [],
   "source": [
    "import pandas as pd\n",
    "import numpy as np\n",
    "from scipy import stats\n",
    "import matplotlib.pyplot as plt"
   ]
  },
  {
   "cell_type": "code",
   "execution_count": 37,
   "metadata": {
    "execution": {
     "iopub.execute_input": "2022-04-26T19:41:57.011631Z",
     "iopub.status.busy": "2022-04-26T19:41:57.011384Z",
     "iopub.status.idle": "2022-04-26T19:41:57.328759Z",
     "shell.execute_reply": "2022-04-26T19:41:57.328082Z"
    },
    "ExecuteTime": {
     "end_time": "2023-07-13T23:04:05.698423700Z",
     "start_time": "2023-07-13T23:04:05.580503800Z"
    }
   },
   "outputs": [],
   "source": [
    "etf_daily = pd.read_csv('data/iShares Core MSCI World UCITS ETF USD  EUNL.DE.csv')\n",
    "etf_monthly = pd.read_csv('data/iShares Core MSCI World UCITS ETF USD (Acc)_Monthly.csv')\n",
    "fed_funds = pd.read_csv('data/Leitzins_USA_FED_Banken.csv')"
   ]
  },
  {
   "cell_type": "markdown",
   "source": [
    "## Statistischer Signifikanztest"
   ],
   "metadata": {
    "collapsed": false
   }
  },
  {
   "cell_type": "markdown",
   "metadata": {},
   "source": [
    "## T-Tests (12)\n",
    "\n",
    "### Idee und Hypothosen\n",
    "\n",
    "Aus den Korrelationsdaten und das Streudiagramm konnte man einen Zusammenhang zwischen dem Leitzins der EZB und den Adj Close Value des ETFs erkennen.\n",
    "\n",
    "Daraus wurden folgende Hypothesen erstellt:\n",
    "\n",
    "* Nullhypothese (H0): Es besteht keine statistisch signifikante Beziehung zwischen den Adj. Closed Price des MSCI World und dem Leitzins der EU-Zentralbank. Der Leitzins der EU-Zentralbank hat keinen signifikanten Einfluss auf den Adj. Closed Price des Aktienmarktes\n",
    "* Alternativhypothese (H1): Es besteht eine statistisch signifikante Beziehung zwischen Adj. Closed Price des MSCI World und dem Leitzins der EU-Zentralbank. Der Leitzins der EU-Zentralbank hat einen signifikanten Einfluss auf den Adj. Closed Price des Aktienmarktes"
   ]
  },
  {
   "cell_type": "code",
   "execution_count": 38,
   "metadata": {
    "execution": {
     "iopub.execute_input": "2022-04-26T19:42:21.729209Z",
     "iopub.status.busy": "2022-04-26T19:42:21.728975Z",
     "iopub.status.idle": "2022-04-26T19:42:21.735487Z",
     "shell.execute_reply": "2022-04-26T19:42:21.734555Z"
    },
    "ExecuteTime": {
     "end_time": "2023-07-13T23:04:08.231236100Z",
     "start_time": "2023-07-13T23:04:05.595436200Z"
    }
   },
   "outputs": [
    {
     "name": "stdout",
     "output_type": "stream",
     "text": [
      "t-Statistic: 29.60855086116252\n",
      "p-value: 1.0600119261545373e-67\n",
      "\n",
      "Durchschnittliche Werte:\n",
      "Durchschnittliche t-Statistik: 29.749989086430798\n",
      "Durchschnittlicher p-Wert: 4.378075478817607e-63\n",
      "Standardabweichung von p_value: 6.236341653589877e-62\n"
     ]
    },
    {
     "data": {
      "text/plain": "<Figure size 800x600 with 1 Axes>",
      "image/png": "[encoded data removed]"
     },
     "metadata": {},
     "output_type": "display_data"
    }
   ],
   "source": [
    "etf_daily = pd.read_csv('data/iShares Core MSCI World UCITS ETF USD (Acc)_Monthly.csv')\n",
    "EZB_Funds = pd.read_csv('data/leitzins Europa.csv')\n",
    "\n",
    "eu_funds_sorted = EZB_Funds.sort_values(by='Date')\n",
    "eu_funds_sorted.to_csv('data/generatedDatasets/leitzins Europa_sorted.csv', index=False)\n",
    "\n",
    "# Werte für den t-Test extrahieren\n",
    "etf_filtered = etf_daily.loc[(etf_daily['Date'] >= '2009-09-25') & (etf_daily['Date'] <= '2023-06-01'), ['Date', 'Adj Close']]\n",
    "eu_funds_filtered = eu_funds_sorted.loc[(eu_funds_sorted['Date'] >= '2009-09-25') & (eu_funds_sorted['Date'] <= '2023-06-01'), ['Date', 'Percent per annum']]\n",
    "\n",
    "etf_filtered.dropna(inplace=True)\n",
    "eu_funds_filtered.dropna(inplace=True)\n",
    "\n",
    "# print(etf_filtered)\n",
    "# print(eu_funds_filtered)\n",
    "\n",
    "# t-Test durchführen\n",
    "t_statistic, p_value = stats.ttest_ind(etf_filtered['Adj Close'], eu_funds_filtered['Percent per annum'], equal_var=False)\n",
    "# Ausgabe der Ergebnisse\n",
    "print(\"t-Statistic:\", t_statistic)\n",
    "print(\"p-value:\", p_value)\n",
    "\n",
    "\n",
    "def bootstrap_sample(data, n_samples):\n",
    "    samples = []\n",
    "    n = len(data)\n",
    "    for _ in range(n_samples):\n",
    "        resampled_data = np.random.choice(data, size=n, replace=True)\n",
    "        samples.append(resampled_data)\n",
    "    return samples\n",
    "\n",
    "# Bootstrap-Sampling\n",
    "n_bootstrap_samples = 1000\n",
    "etf_samples = bootstrap_sample(etf_filtered['Adj Close'], n_bootstrap_samples)\n",
    "eu_funds_samples = bootstrap_sample(eu_funds_filtered['Percent per annum'], n_bootstrap_samples)\n",
    "\n",
    "# t-Test für jedes Bootstrap-Sample durchführen und Ergebnisse speichern\n",
    "bootstrap_results = []\n",
    "for i in range(n_bootstrap_samples):\n",
    "    t_statistic_bs, _ = stats.ttest_ind(etf_samples[i], eu_funds_samples[i], equal_var=False)\n",
    "    bootstrap_results.append(t_statistic_bs)\n",
    "\n",
    "average_t_statistic = np.mean(bootstrap_results)\n",
    "average_p_value = np.mean([stats.ttest_ind(etf_samples[i], eu_funds_samples[i], equal_var=False)[1] for i in range(n_bootstrap_samples)])\n",
    "p_value_std = np.std([stats.ttest_ind(etf_samples[i], eu_funds_samples[i], equal_var=False)[1] for i in range(n_bootstrap_samples)])\n",
    "\n",
    "\n",
    "# Konfidenzintervall berechnen\n",
    "results = pd.Series(bootstrap_results)\n",
    "confidence_interval = list(results.quantile([0.05, 0.95]))\n",
    "\n",
    "# Diagramm erstellen\n",
    "ax = results.plot.hist(bins=30, figsize=(8, 6))\n",
    "ax.plot(confidence_interval, [55, 55], color='black')\n",
    "for x in confidence_interval:\n",
    "    ax.plot([x, x], [0, 65], color='black')\n",
    "    ax.text(x, 70, f'{x:.0f}',\n",
    "            horizontalalignment='center', verticalalignment='center')\n",
    "ax.text(sum(confidence_interval) / 2, 60, '90% interval',\n",
    "        horizontalalignment='center', verticalalignment='center')\n",
    "\n",
    "mean_of_standard_deviation_adj_close = results.mean()\n",
    "ax.plot([mean_of_standard_deviation_adj_close, mean_of_standard_deviation_adj_close], [0, 50], color='black', linestyle='--')\n",
    "ax.text(mean_of_standard_deviation_adj_close, 10, f'Mean: {mean_of_standard_deviation_adj_close:.0f}',\n",
    "        bbox=dict(facecolor='white', edgecolor='white', alpha=0.5),\n",
    "        horizontalalignment='center', verticalalignment='center')\n",
    "\n",
    "ax.set_ylim(0, 150)\n",
    "ax.set_ylabel('Counts')\n",
    "\n",
    "print()\n",
    "print(\"Durchschnittliche Werte:\")\n",
    "print(\"Durchschnittliche t-Statistik:\", average_t_statistic)\n",
    "print(\"Durchschnittlicher p-Wert:\", average_p_value)\n",
    "print(\"Standardabweichung von p_value:\", p_value_std)\n",
    "\n",
    "\n",
    "plt.show()"
   ]
  },
  {
   "cell_type": "markdown",
   "metadata": {},
   "source": [
    "### Ergebnis Interpretation T-Test\n",
    "\n",
    "Die t-Statistik beträgt 29.60855086116252 und die durchschnittliche t-Statistik beträgt\n",
    "29.76566133619707. Dies deutet darauf hin, dass es eine starke statistische Abweichung zwischen den Adj. Close-Werten und den Leitzins-Werten gibt.\n",
    "\n",
    "Der durchschnittliche p-Wert liegt 1.2835205117325122e-62. Dies deutet darauf hin, dass die Unterschiede zwischen den Adj. Close-Werten und den Leitzins-Werten höchstwahrscheinlich nicht zufällig und statistisch signifikant sind.\n",
    "\n",
    "Da der p-Wert bei 1.2835205117325122e-62 beträgt und somit unter den Signifikanzniveau von 0,05 liegt, haben wir ausreichende Beweise, um die Nullhypothese abzulehnen. Das bedeutet, dass die H0 Hypothese abgelehnt werden kann. Hingegen unterstützt das Ergebnis die Alternativhypothese und deutet darauf hin, dass der Leitzins der EU-Zentralbank einen signifikanten Einfluss auf den Adj. Closed Price des MSCI World hat.\n",
    "\n",
    "Die Standardabweichung der p-Werte von 1.7331534604061102e-62 zeigt die Streuung der p-Werte um den Durchschnitt. Da die Standardabweichung sehr klein ist, kann man sehen, dass die p-Werte in den Bootstrap-Samples relativ eng um den Durchschnitt gruppiert sind. Dies bedeutet, dass die Bootstrap-Samples konsistente und stabile Ergebnisse in Bezug auf die p-Werte liefern. Das stärkt die Vertrauenswürdigkeit der statistischen Tests bzw. die Hypothesenüberprüfungen.\n",
    "\n"
   ]
  },
  {
   "cell_type": "markdown",
   "metadata": {},
   "source": [
    "## ANOVA (13)\n",
    "\n",
    "### Idee und Hypothesen\n",
    "\n",
    "Aus den Korrelationsdaten und das Streudiagramm konnte man einen Zusammenhang zwischen dem Leitzins der FED für Banken und den Adj Close Value des ETFs erkennen.\n",
    "\n",
    "Daraus wurden folgende Hypothesen erstellt:\n",
    "\n",
    "* Nullhypothese (H0): Es besteht keine statistisch signifikante Beziehung zwischen den Closed Adj.Value des MSCI World und dem Leitzins der FED. Der Leitzins der FED hat keinen signifikanten Einfluss auf den Closed Adj.Value des Aktienmarktes\n",
    "* Alternativhypothese (H1): Es besteht eine statistisch signifikante Beziehung zwischen Closed Adj.Value des MSCI World und dem Leitzins der FED. Der Leitzins der FED hat einen signifikanten Einfluss auf den Closed Adj.Value des Aktienmarktes"
   ]
  },
  {
   "cell_type": "code",
   "execution_count": 39,
   "metadata": {
    "collapsed": false,
    "jupyter": {
     "outputs_hidden": false
    },
    "ExecuteTime": {
     "end_time": "2023-07-13T23:04:09.115635500Z",
     "start_time": "2023-07-13T23:04:08.243220200Z"
    }
   },
   "outputs": [
    {
     "name": "stdout",
     "output_type": "stream",
     "text": [
      "f_statistic: 794.7860225980298\n",
      "p-value: 1.7224830516974336e-153\n"
     ]
    },
    {
     "data": {
      "text/plain": "<Figure size 800x600 with 1 Axes>",
      "image/png": "[encoded data removed]"
     },
     "metadata": {},
     "output_type": "display_data"
    },
    {
     "name": "stdout",
     "output_type": "stream",
     "text": [
      "Durchschnittliche Werte:\n",
      "Durchschnittliche F-Statistic: 804.2175203448827\n",
      "Durchschnittlicher p-value: 1.0751667809518542e-137\n",
      "Standardabweichung von p_values: 2.916717558256157e-136\n"
     ]
    }
   ],
   "source": [
    "# Daten einlesen\n",
    "etf_monthly = pd.read_csv('data/iShares Core MSCI World UCITS ETF USD (Acc)_Monthly.csv')\n",
    "fed_funds_for_banks = pd.read_csv('data/Leitzins_USA_FED_Banken.csv')\n",
    "fed_funds_for_customers = pd.read_csv('data/generatedDatasets/Leitzins_USA_FED_Kunden_aufgefuellt.csv')\n",
    "# Werte für den t-Test extrahieren\n",
    "etf_filtered = etf_monthly.loc[(etf_monthly['Date'] >= '2009-10-01') & (etf_monthly['Date'] <= '2023-04-01'), ['Date', 'Adj Close']]\n",
    "fed_funds_for_banks_filtered = fed_funds_for_banks.loc[(fed_funds_for_banks['DATE'] >= '2009-10-01') & (fed_funds_for_banks['DATE'] <= '2023-04-01'), ['DATE', 'FEDFUNDS']]\n",
    "fed_funds_for_customer_filtered = fed_funds_for_customers.loc[(fed_funds_for_customers['DATE'] >= '2009-10-01') & (fed_funds_for_customers['DATE'] <= '2023-04-01'), ['DATE', 'PRIME']]\n",
    "\n",
    "\n",
    "# Daten zusammenführen\n",
    "etf_fedfunds_filtered_combined = pd.merge(etf_filtered, fed_funds_for_banks_filtered, left_on='Date', right_on='DATE', how='inner')\n",
    "etf_fedfunds_filtered_combined = pd.merge(etf_fedfunds_filtered_combined, fed_funds_for_customer_filtered, left_on='Date', right_on='DATE', how='inner')\n",
    "\n",
    "etf_fedfunds_filtered_combined.drop('DATE_x', axis=1, inplace=True)\n",
    "etf_fedfunds_filtered_combined.drop('DATE_y', axis=1, inplace=True)\n",
    "\n",
    "\n",
    "etf_fedfunds_filtered_combined.to_csv('data/generatedDatasets/combined_fed_funds_filtered.csv', index=False)\n",
    "\n",
    "#Anova Test\n",
    "\n",
    "anova_result = stats.f_oneway(etf_fedfunds_filtered_combined['Adj Close'], etf_fedfunds_filtered_combined['FEDFUNDS'], etf_fedfunds_filtered_combined['PRIME'])\n",
    "print('f_statistic:', anova_result.statistic)\n",
    "print('p-value:', anova_result.pvalue)\n",
    "\n",
    "#-----------------------------------\n",
    "# Bootstrap-Sampling\n",
    "num_bootstrap_samples = 1000\n",
    "bootstrap_samples = []\n",
    "\n",
    "for _ in range(num_bootstrap_samples):\n",
    "    sample = etf_fedfunds_filtered_combined.sample(frac=1, replace=True)\n",
    "    bootstrap_samples.append(sample)\n",
    "\n",
    "# Ergebnisse des Anova-Tests für jedes Bootstrap-Sample speichern\n",
    "anova_results = []\n",
    "for sample in bootstrap_samples:\n",
    "    anova_result = stats.f_oneway(sample['Adj Close'], sample['FEDFUNDS'], sample['PRIME'])\n",
    "    anova_results.append(anova_result)\n",
    "\n",
    "# Durchschnitt der F-Statistik und des p-Wertes berechnen\n",
    "f_statistic_avg = np.mean([result.statistic for result in anova_results])\n",
    "p_value_avg = np.mean([result.pvalue for result in anova_results])\n",
    "p_value_std = np.std([result.pvalue for result in anova_results])\n",
    "\n",
    "# Bootstrap-Konfidenzintervall-Diagramm\n",
    "results = pd.Series([result.statistic for result in anova_results])\n",
    "\n",
    "confidence_interval = list(results.quantile([0.05, 0.95]))\n",
    "\n",
    "ax = results.plot.hist(bins=30, figsize=(8, 6))\n",
    "ax.plot(confidence_interval, [55, 55], color='black')\n",
    "for x in confidence_interval:\n",
    "    ax.plot([x, x], [0, 65], color='black')\n",
    "    ax.text(x, 70, f'{x:.0f}',\n",
    "            horizontalalignment='center', verticalalignment='center')\n",
    "ax.text(sum(confidence_interval) / 2, 60, '90% interval',\n",
    "        horizontalalignment='center', verticalalignment='center')\n",
    "\n",
    "ax.plot([f_statistic_avg, f_statistic_avg], [0, 50], color='black', linestyle='--')\n",
    "ax.text(f_statistic_avg, 10, f'Average: {f_statistic_avg:.0f}',\n",
    "        bbox=dict(facecolor='white', edgecolor='white', alpha=0.5),\n",
    "        horizontalalignment='center', verticalalignment='center')\n",
    "\n",
    "ax.set_ylim(0, 150)\n",
    "ax.set_ylabel('Counts')\n",
    "ax.set_title('f_statistic')\n",
    "plt.show()\n",
    "\n",
    "print(\"Durchschnittliche Werte:\")\n",
    "print(\"Durchschnittliche F-Statistic:\", f_statistic_avg)\n",
    "print(\"Durchschnittlicher p-value:\", p_value_avg)\n",
    "print(\"Standardabweichung von p_values:\", p_value_std)"
   ]
  },
  {
   "cell_type": "markdown",
   "metadata": {},
   "source": [
    " ### Ergebnis Interpretation ANOVA Test\n",
    "\n",
    "Die durchschnittliche F-Statistik gibt an, wie stark die Varianz der Gruppenmittelwerte im Vergleich zur Varianz innerhalb der Gruppen ist. Eine hohe F-Statistik deutet darauf hin, dass die Varianz zwischen den Gruppen im Vergleich zur Varianz innerhalb der Gruppen signifikant ist. In diesem Fall ist die F-Statistik mit einer durchschnittliche F-Statistik von 804.0539576633385 sehr hoch, was darauf hindeutet, dass es eine signifikante Beziehung zwischen den Variablen besteht.\n",
    "\n",
    "Aus dem Ergebnis des durchschnittliche p-value Werts von 8.113382423599491e-136, welches sehr klein ist, kann nun interpretiert werden, dass man die Nullhypothese (H0) ablehnt und die Alternativhypothese (H1) akzeptiert.\n",
    "\n",
    "Die Standardabweichung der p-Werte von 2.3069162053443106e-134 zeigt die Streuung der p-Werte um den Durchschnitt. Da die Standardabweichung sehr klein ist, kann man sehen, dass die p-Werte in den Bootstrap-Samples relativ eng um den Durchschnitt gruppiert sind. Dies bedeutet, dass die Bootstrap-Samples konsistente und stabile Ergebnisse in Bezug auf die p-Werte liefern. Das stärkt die Vertrauenswürdigkeit der statistischen Tests bzw. die Hypothesenüberprüfungen.\n"
   ]
  },
  {
   "cell_type": "markdown",
   "metadata": {},
   "source": [
    "## Chi-Square Test (14)"
   ]
  },
  {
   "cell_type": "markdown",
   "metadata": {},
   "source": [
    "### Erklärung und Idee\n",
    "Definition der Hypothesen:\n",
    "   * Nullhypothese (H0): Es besteht kein Zusammenhang zwischen der Rendite des ETFs und den Währungsumtauschdaten.\n",
    "   * Alternativhypothese (HA): Es besteht ein Zusammenhang zwischen der Rendite des ETFs und den Währungsumtauschdaten.\n",
    "\n",
    "Um einen Chi-Quadrat-Test auf die Rendite eines ETFs und die Währungsumtauschdaten durchzuführen, müssen die Variablen kategorische oder diskrete Werte haben, damit der Chi-Quadrat-Test angewendet werden kann.\n",
    "\n",
    "Dafür müssen kontinuierlichen Daten der Rendite und Währungsumtausch in kategorische oder diskrete Werte konvertiertt werden. Hierbei werden die Häufigkeiten der Kombinationen von Werten aus den Spalten 'Daily Return' und 'USD_EUR_Exch_Rate' zu einer Kontingenztabelle zusammengestellt.\n",
    "\n",
    "Nachdem nun eine Kontingenztabelle erstellt wurde, kann ein Chi-Quadrat-Test durchgeführt werden."
   ]
  },
  {
   "cell_type": "code",
   "execution_count": 41,
   "outputs": [
    {
     "name": "stdout",
     "output_type": "stream",
     "text": [
      "Zusammenfassung Vergleich der Renditen: \n",
      "Status  negative  positive  stabil\n",
      "Anzahl      1794      1635      25\n",
      "\n",
      "Zusammenfassung Vergleich der Exchange Rate USD-EUR: \n",
      "Status  empty  negative  positive\n",
      "Anzahl   1479      3222       256\n"
     ]
    }
   ],
   "source": [
    "etf_with_return = pd.read_csv('data/generatedDatasets/iShares Core MSCI World UCITS ETF USD (Acc) Daily - Rendite.csv')\n",
    "\n",
    "etf_with_return_filtered = etf_with_return.loc[(etf_with_return['Date'] >= '2009-09-25') & (etf_with_return['Date'] <= '2023-06-01'), ['Date', 'Daily Return']]\n",
    "\n",
    "\n",
    "# Berechnung des Anstiegs oder Abstiegs zum Vortag\n",
    "etf_with_return['Change'] = etf_with_return['Daily Return'].diff().fillna(0)\n",
    "\n",
    "# Vergleich der Veränderung der Rendite zum Vortag\n",
    "etf_with_return['Comparison'] = etf_with_return['Change'].apply(lambda x: 'positive' if x > 0 else 'negative' if x < 0 else 'stabil')\n",
    "\n",
    "etf_with_return.to_csv('data/generatedDatasets/iShares Core MSCI World UCITS ETF USD (Acc) Daily - Rendite with Comparison Metric.csv', index=False)\n",
    "\n",
    "# Überprüfung der vorhandenen Werte in der Spalte 'Comparison'\n",
    "# print(etf_with_return['Comparison'].unique())\n",
    "\n",
    "# Summierung der Werte in der Spalte 'Comparison'\n",
    "summary_table_of_return_value_comparison = etf_with_return['Comparison'].value_counts().reset_index()\n",
    "\n",
    "# Umbenennung der Spalten\n",
    "summary_table_of_return_value_comparison.columns = ['Status', 'Anzahl']\n",
    "\n",
    "# Umformatierung der Tabelle\n",
    "summary_table_of_return_value_comparison = summary_table_of_return_value_comparison.pivot_table(index=None, columns='Status', values='Anzahl', fill_value=0)\n",
    "\n",
    "# Ausgabe der Zusammenfassungstabelle\n",
    "print('Zusammenfassung Vergleich der Renditen: ')\n",
    "print(summary_table_of_return_value_comparison)\n",
    "\n",
    "# --------------------------------------------------------------------------------------------------------------------------\n",
    "\n",
    "usd_eur_exchange = pd.read_csv('data/generatedDatasets/ERR_USD_Clean.csv')\n",
    "\n",
    "usd_eur_exchange_filtered = usd_eur_exchange.loc[(usd_eur_exchange['Date'] >= '2009-09-25') & (usd_eur_exchange['Date'] <= '2023-06-01'), ['Date', 'ECB Nominal effective exch. rate of the US dollar against Narrow EER group of trading partners (fixed composition): EER-12']]\n",
    "\n",
    "usd_eur_exchange_filtered = usd_eur_exchange_filtered.rename(columns={'ECB Nominal effective exch. rate of the US dollar against Narrow EER group of trading partners (fixed composition): EER-12': 'nom. exch. Rate USD-EUR'})\n",
    "\n",
    "# Umwandlung der Spalte in numerische Werte\n",
    "usd_eur_exchange_filtered['nom. exch. Rate USD-EUR'] = pd.to_numeric(usd_eur_exchange_filtered['nom. exch. Rate USD-EUR'], errors='coerce')\n",
    "\n",
    "# Basispunkt definieren\n",
    "basispunkt = 100\n",
    "\n",
    "# Vergleichsfunktion für den neuen Spaltenwert\n",
    "def compare_to_basispoint(value):\n",
    "    if value < basispunkt:\n",
    "        return 'negative'\n",
    "    elif value > basispunkt:\n",
    "        return 'positive'\n",
    "    elif pd.isna(value):\n",
    "        return 'empty'\n",
    "    else:\n",
    "        return 'stabil'\n",
    "\n",
    "# Neue Spalte erstellen und mit den Vergleichswerten füllen\n",
    "usd_eur_exchange_filtered['Comparison'] = usd_eur_exchange_filtered['nom. exch. Rate USD-EUR'].apply(compare_to_basispoint)\n",
    "\n",
    "usd_eur_exchange_filtered.to_csv('data/generatedDatasets/ERR_USD_Clean_With_Comparison_Metric.csv', index=False)\n",
    "\n",
    "# Summieren der Werte in der Spalte 'Comparison'\n",
    "summary_table = usd_eur_exchange_filtered['Comparison'].value_counts().reset_index()\n",
    "\n",
    "# Umbenennung der Spalten\n",
    "summary_table.columns = ['Status', 'Anzahl']\n",
    "\n",
    "# Hinzufügen fehlender Status-Werte und Füllen mit 0\n",
    "summary_table = summary_table.pivot_table(index=None, columns='Status', values='Anzahl', fill_value=0)\n",
    "\n",
    "\n",
    "# Ausgabe der neuen Tabelle\n",
    "print()\n",
    "print('Zusammenfassung Vergleich der Exchange Rate USD-EUR: ')\n",
    "print(summary_table)\n"
   ],
   "metadata": {
    "collapsed": false,
    "ExecuteTime": {
     "end_time": "2023-07-13T23:04:09.232250Z",
     "start_time": "2023-07-13T23:04:09.132637700Z"
    }
   }
  },
  {
   "cell_type": "code",
   "execution_count": 42,
   "outputs": [
    {
     "name": "stdout",
     "output_type": "stream",
     "text": [
      "Comparison  negative  positive  stabil\n",
      "Comparison                            \n",
      "empty            548       477       8\n",
      "negative        1116      1045       4\n",
      "positive         130       113      13\n",
      "\n",
      "Chi-Quadrat-Test Ergebnis:\n",
      "Chi2-Statistik: 77.40614180275973\n",
      "p-Wert: 6.170125165820085e-16\n",
      "\n",
      "Durchschnittliche Werte:\n",
      "Mittelwert der Chi-Quadrat-Statistiken: 77.40614180275972\n",
      "Mittelwert der p-Werte: 6.170125165820084e-16\n",
      "Standardabweichung von p_values: 9.860761315262648e-32\n"
     ]
    }
   ],
   "source": [
    "import pandas as pd\n",
    "from scipy.stats import chi2_contingency\n",
    "\n",
    "# Daten einlesen\n",
    "usd_eur_exchange_filtered = pd.read_csv('data/generatedDatasets/ERR_USD_Clean_With_Comparison_Metric.csv')\n",
    "etf_with_return_filtered = pd.read_csv('data/generatedDatasets/iShares Core MSCI World UCITS ETF USD (Acc) Daily - Rendite with Comparison Metric.csv')\n",
    "\n",
    "# Kreuztabelle erstellen\n",
    "cross_table = pd.crosstab(usd_eur_exchange_filtered['Comparison'], etf_with_return_filtered['Comparison'])\n",
    "\n",
    "print(cross_table)\n",
    "print()\n",
    "\n",
    "# Chi-Quadrat-Test durchführen\n",
    "chi2, p_value, _, _ = chi2_contingency(cross_table)\n",
    "\n",
    "# Ergebnis ausgeben\n",
    "print(\"Chi-Quadrat-Test Ergebnis:\")\n",
    "print(\"Chi2-Statistik:\", chi2)\n",
    "print(\"p-Wert:\", p_value)\n",
    "\n",
    "# ---------------------------------------------\n",
    "\n",
    "# Anzahl der Bootstraps\n",
    "num_bootstraps = 500\n",
    "\n",
    "# Speicher Arrays für die p-values und chi-qrt_values\n",
    "bootstrap_chi2_values = []\n",
    "bootstrap_p_values = []\n",
    "\n",
    "for i in range(num_bootstraps):\n",
    "    # Zufällige Stichprobe mit Zurücklegen aus den Daten ziehen\n",
    "    bootstrap_sample = etf_with_return_filtered.sample(frac=1, replace=True)\n",
    "\n",
    "    # Erstellen der Kontingenztabelle für die Bootstrap-Stichprobe\n",
    "    bootstrap_contingency_table = pd.crosstab(usd_eur_exchange_filtered['Comparison'], etf_with_return_filtered['Comparison'])\n",
    "\n",
    "    # Durchführung des Chi-Quadrat-Tests für die Bootstrap-Stichprobe --> gib noch \"Freiheitsgrade\" und Erwartete Häufigkeiten zurück, wird aber nicht gebraucht\n",
    "    bootstrap_chi2, bootstrap_p_value, df, expected = chi2_contingency(bootstrap_contingency_table)\n",
    "\n",
    "    # Speichern der Ergebnisse in den Listen\n",
    "    bootstrap_chi2_values.append(bootstrap_chi2)\n",
    "    bootstrap_p_values.append(bootstrap_p_value)\n",
    "\n",
    "# Berechnung des Mittelwerts der Chi-Quadrat-Statistiken und p-Werte\n",
    "mean_chi2 = np.mean(bootstrap_chi2_values)\n",
    "mean_p_value = np.mean(bootstrap_p_values)\n",
    "p_value_std  = np.std(bootstrap_p_values)\n",
    "\n",
    "\n",
    "\n",
    "print()\n",
    "print(\"Durchschnittliche Werte:\")\n",
    "print(\"Mittelwert der Chi-Quadrat-Statistiken:\", mean_chi2)\n",
    "print(\"Mittelwert der p-Werte:\", mean_p_value)\n",
    "print(\"Standardabweichung von p_values:\", p_value_std)"
   ],
   "metadata": {
    "collapsed": false,
    "ExecuteTime": {
     "end_time": "2023-07-13T23:04:12.426241700Z",
     "start_time": "2023-07-13T23:04:09.229237100Z"
    }
   }
  },
  {
   "cell_type": "markdown",
   "source": [
    "### Ergebnis Interpretation Chi-Quadrat-Test\n",
    "\n",
    "Das Ergebnis des Chi-Quadrat-Tests liefert die Chi-Quadrat-Statistik von 77.40614180275973 und einen extrem niedrigen p-Wert von 6.170125165820085e-16.\n",
    "\n",
    "Die Chi-Quadrat-Statistik von 77.40614180275973 ist ein Maß für die Abweichung der beobachteten Häufigkeiten von den erwarteten Häufigkeiten unter der Annahme, dass es keinen Zusammenhang zwischen den Variablen gibt. Eine hohe Chi-Quadrat-Statistik deutet darauf hin, dass die beobachteten Häufigkeiten deutlich von den erwarteten Häufigkeiten abweichen und somit auf einen Zusammenhang hindeuten.\n",
    "\n",
    "Aus den sehr kleinen p-Wert, welches unter den Signifikanzniveau von 0,05, kann die Nullhypothese verworfen werden. Dies deutet darauf hin, dass es einen statistisch signifikanten Zusammenhang zwischen der Rendite des ETFs und den Währungsumtauschdaten gibt. Die Alternativhypothese kann daher angenommen werden, was bedeutet, dass die Rendite des ETFs tatsächlich von den Währungsumtauschdaten beeinflusst wird.\n",
    "\n",
    "Die Standardabweichung der p-Werte von 9.860761315262648e-32 zeigt die Streuung der p-Werte um den Durchschnitt. Da die Standardabweichung sehr klein ist, kann man sehen, dass die p-Werte in den Bootstrap-Samples relativ eng um den Durchschnitt gruppiert sind. Dies bedeutet, dass die Bootstrap-Samples konsistente und stabile Ergebnisse in Bezug auf die p-Werte liefern. Das stärkt die Vertrauenswürdigkeit der statistischen Tests bzw. die Hypothesenüberprüfungen."
   ],
   "metadata": {
    "collapsed": false
   }
  }
 ],
 "metadata": {
  "kernelspec": {
   "display_name": "Python 3 (ipykernel)",
   "language": "python",
   "name": "python3"
  },
  "language_info": {
   "codemirror_mode": {
    "name": "ipython",
    "version": 3
   },
   "file_extension": ".py",
   "mimetype": "text/x-python",
   "name": "python",
   "nbconvert_exporter": "python",
   "pygments_lexer": "ipython3",
   "version": "3.11.3"
  }
 },
 "nbformat": 4,
 "nbformat_minor": 4
}
