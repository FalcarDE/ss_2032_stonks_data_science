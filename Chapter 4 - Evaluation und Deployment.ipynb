{
 "cells": [
  {
   "cell_type": "markdown",
   "source": [
    "# Finaler Report (33)"
   ],
   "metadata": {
    "collapsed": false
   }
  },
  {
   "cell_type": "markdown",
   "source": [
    "## Bewertung Ergebnisse der Business Objective & Business Success Criteria (32)\n",
    "\n",
    "Aus den in \"Chapter - 0 Einführung\" beschriebenen Business Objective & Business Success Criteria\n",
    "\n",
    "<br>\n",
    "<img src= \"./images/Chapter0/Business_Objectives_Business_Success_Criteria.png\"  width=\"950\" ><br>\n",
    "<br>\n",
    "<br>\n",
    "\n",
    "konnte unter den folgenden Aspekten erfolgreich beantwortet werden:\n",
    "\n",
    "<br>\n",
    "<img src= \"./images/Chapter4/Business_Success_Criteria_0.png\"  width=\"950\" >\n",
    "<br>\n",
    "<br>\n",
    "<img src= \"./images/Chapter4/Business_Success_Criteria_1.png\"  width=\"950\" >\n",
    "<br>\n",
    "<br>\n",
    "<img src= \"./images/Chapter4/Business_Success_Criteria_2.png\"  width=\"950\" >\n",
    "<br>\n",
    "<br>\n",
    "<img src= \"./images/Chapter4/Business_Success_Criteria_3.png\"  width=\"950\" >\n",
    "<br>\n",
    "<br>\n",
    "<img src= \"./images/Chapter4/Business_Success_Criteria_4.png\"  width=\"950\" >\n",
    "<br>"
   ],
   "metadata": {
    "collapsed": false
   }
  },
  {
   "cell_type": "markdown",
   "source": [
    "## Bewertung der Ergebnisse des Data Minings in Bezug auf Ziele und Erfolgskriterien (32)\n",
    "\n",
    "Diese folgenden Ziele wurden für das Data Mining in \"Chapter - 0 Einführung\" definiert:\n",
    "<br>\n",
    "<img src= \"./images/Chapter0/Business_Objectives_Business_Success_Criteria_1.png\"  width=\"950\" >\n",
    "<br>\n",
    "\n",
    "Im generellen wurden die definierten Data Mining Ziele unter den in der Volesung verwendeten Methoden analysiert, interpretiert und wie in den folgenden Folien zu sehen erfolgreich durchgeführt:\n",
    "\n",
    "<br>\n",
    "<img src= \"./images/Chapter4/Data_Mining_Ziele_0.png\"  width=\"950\" >\n",
    "<br>\n",
    "<br>\n",
    "<img src= \"./images/Chapter4/Data_Mining_Ziele_1.png\"  width=\"950\" >\n",
    "<br>\n",
    "<br>\n",
    "<img src= \"./images/Chapter4/Data_Mining_Ziele_2.png\"  width=\"950\" >\n",
    "<br>\n",
    "<br>\n",
    "<img src= \"./images/Chapter4/Data_Mining_Ziele_3.png\"  width=\"950\" >\n",
    "<br>\n"
   ],
   "metadata": {
    "collapsed": false
   }
  },
  {
   "cell_type": "markdown",
   "source": [
    "## Final Report: Datenanalyse - Chapter 1  (33)\n",
    "Wie aus den Punkt \"Bewertung der Ergebnisse des Data Minings in Bezug auf Ziele und Erfolgskriterien (32)\" zu sehen lag der Augenmaß der Analysen und Methoden da drauf, den iShares Core MSCI World UCITS ETF in seinen Details zu untersuchen.\n",
    "\n",
    "Zunächst wurde in Chapter 1 eine Bereinigung, Aufbereitung und Vereinigung Datensätze vorgenommen und erste Analysen der Daten auf den Mittelwert, Median,Standardabweichung, IQR, Percientile und Boxplot Diagramme, sowie Koeffizient Intervalle mit Sampling und Historgramm für den Adj. Closed Price und Volumen durchgeführt, um ein erstes Gefühl für das Verständnis der Daten zu erhalten. (Data Understanding und Data Preparation).\n",
    "\n",
    "Als Nächstes wurden in Chapter 1 die:\n",
    "* Korrelation zwischen dem täglichen EZB-Leitzins und MSCI World Adj Close Daily\n",
    "* Korrelation zwischen des monatlichen Leitzinses der FED und den MSCI World Adj Close Monthly Price (6, 8)\n",
    "* Korrelation zwischen täglich Kurs des Währungstausch EUR-USD und dem MSCI World Adj Close Daily (6, 8)\n",
    "\n",
    "durchgeführt. Dabei wurde das Ergebnis der Korrelation mit einem Streudiagramm kombiniert, um eine bessere Darstellung der Daten in Zusammenhang zu gewährleisten.\n",
    "\n",
    "Das sind die Ergebnisse der Korrelationen:\n",
    "\n",
    "<br>\n",
    "<img src= \"./images/Chapter4/Korre_Ergebnis_0.png\"  width=\"950\" >\n",
    "<br>\n",
    "<br>\n",
    "<br>\n",
    "<img src= \"./images/Chapter4/Korre_Ergebnis_1.png\"  width=\"950\" >\n",
    "<br>\n",
    "<br>\n",
    "<br>\n",
    "<img src= \"./images/Chapter4/Korre_Ergebnis_2.png\"  width=\"950\" >\n",
    "<br>\n",
    "<br>\n",
    "\n",
    "Dabei die sind erste Fragen aufgekommen, wie zB. warum die FED eine negative Korrelation zu den Adj. Close aufweist, dagegen aber EZB-Leitzins einen positiven Korrelationswert aufweist.\n",
    "\n",
    "Darauf hin wurde eine weitere Analyse der mittels der Portfolio-Daten des iShares Core MSCI World UCITS ETF ein Balkendiagramm darstellt, welche aufzeigt, dass mehr 68% aller Aktien im ETF aus der USA stammen und damit der Leitzins der FED einen deutlich größeren Einfluss hat als die der EZB.\n",
    "<br>\n",
    "<img src= \"./images/Chapter4/ETF_Länder.png\"  width=\"950\" >\n",
    "<br>\n",
    "\n",
    "Zusätzlich wurde in Hexagonal binning and Contours Diagramm erstellt. Diese sollten die Abhängigkeit des Adj. Close Price und Leitzins der FED für Banken darstellen\n"
   ],
   "metadata": {
    "collapsed": false
   }
  },
  {
   "cell_type": "markdown",
   "source": [
    "## Final Report: Modellevaluierung - Chapter 2 & 3  (33)\n",
    "\n",
    "Im *Chapter 2* wurde zunächst die Thesen für die statistischen Signifikanztest des T-Test, ANOVA und Chi-Square Test aufgestellt. Diese Erklärungen und Idee der Hypothesen kann man im Detail im Chapter 2 nachlesen. Nach jeder Analyse wurden die Ergebnisse als Ausgabe angezeigt. Anschließend wurde eine Ergebnisinterpretation durchgeführt. Die detaillierte Ergebnisinterpretation kann man im Chapter 2 vertieft durchlesen.\n",
    "\n",
    "Danach wurden die Daten für die Testszenarien bereinigt, gefiltert und zusammengestellt.\n",
    "\n",
    "Im generellen kann für das Finale Report folgendes aus den Testszenarien zusammengefasst werden:\n",
    "\n",
    "__Die These für den T-Test sind folgende__:\n",
    "   * Nullhypothese (H0): Es besteht keine statistisch signifikante Beziehung zwischen den Adj. Closed Price des MSCI World und dem Leitzins der EU-Zentralbank. Der Leitzins der EU-Zentralbank hat keinen signifikanten Einfluss auf den Adj. Closed Price des Aktienmarktes\n",
    "   * Alternativhypothese (H1): Es besteht eine statistisch signifikante Beziehung zwischen Adj. Closed Price des MSCI World und dem Leitzins der EU-Zentralbank. Der Leitzins der EU-Zentralbank hat einen signifikanten Einfluss auf den Adj. Closed Price des Aktienmarktes\n",
    "\n",
    "__Das Ergebnis des T-Tests__:\n",
    "Da der p-Wert bei 1.2835205117325122e-62 beträgt und somit unter den Signifikanzniveau von 0,05 liegt, haben wir ausreichende Beweise, um die Nullhypothese abzulehnen. Das bedeutet, dass die H0 Hypothese abgelehnt werden kann. Hingegen unterstützt das Ergebnis die Alternativhypothese und deutet darauf hin, dass der Leitzins der EU-Zentralbank einen signifikanten Einfluss auf den Adj. Closed Price des MSCI World hat.\n",
    "\n",
    "__Die These für den Anova-Test sind folgende__:\n",
    "   * Nullhypothese (H0): Es besteht keine statistisch signifikante Beziehung zwischen den Closed Adj.Value des MSCI World und dem Leitzins der FED. Der Leitzins der FED hat keinen signifikanten Einfluss auf den Closed Adj.Value des Aktienmarktes\n",
    "   * Alternativhypothese (H1): Es besteht eine statistisch signifikante Beziehung zwischen Closed Adj.Value des MSCI World und dem Leitzins der FED. Der Leitzins der FED hat einen signifikanten Einfluss auf den Closed Adj.Value des Aktienmarktes\n",
    "\n",
    "__Das Ergebnis Anova-Test__:\n",
    "Aus dem Ergebnis des durchschnittliche p-value Werts von 8.113382423599491e-136, welches sehr klein ist, kann nun interpretiert werden, dass man die Nullhypothese (H0) ablehnt und die Alternativhypothese (H1) akzeptiert.\n",
    "\n",
    "__Die These für den Chi-Quadrat-Tests sind folgende__:\n",
    "   * Nullhypothese (H0): Es besteht kein Zusammenhang zwischen der Rendite des ETFs und den Währungsumtauschdaten.\n",
    "   * Alternativhypothese (HA): Es besteht ein Zusammenhang zwischen der Rendite des ETFs und den Währungsumtauschdaten.\n",
    "\n",
    "__Das Ergebnis Chi-Quadrat-Tests__:\n",
    "Aus den sehr kleinen p-Wert, welches unter den Signifikanzniveau von 0,05, kann die Nullhypothese verworfen werden. Dies deutet darauf hin, dass es einen statistisch signifikanten Zusammenhang zwischen der Rendite des ETFs und den Währungsumtauschdaten gibt. Die Alternativhypothese kann daher angenommen werden, was bedeutet, dass die Rendite des ETFs tatsächlich von den Währungsumtauschdaten beeinflusst wird.\n",
    "\n",
    "Im Chapter 3 wurden der Fokus stark auf verschiedene lineare Regressions- und Klassifikationsmodelle gelegt.\n",
    "\n",
    "In *Chapter 3* wurde zunächs auf die einfache, multiple lineare Regression eingegangen. Dabei wurde die Zielgröße (Adj. Close Price) bei der einfachen linearen Regression mit der Leitzins der FED verknüpft und bei der multiplen linearen Regression mit dem Leitzins der EZB, Leitzins für FED für Banken und für Enterprise Customer berechnet.\n",
    "Als Ergebnis erhielt man folgende Ergebnisse bei der multiplen linearen Regression:\n",
    "\n",
    "<br>\n",
    "<img src= \"./images/Chapter4/Erg_mult_lin_Reg.png\"  width=\"950\" >\n",
    "<br>\n",
    "\n",
    "Schlussfolgernd kann man draus interpretieren, dass bei Steigerung der FED Leitzins der Banken auch bei Enterprise Customer einen Anstieg des Adj. Close Price haben. Hingegen hat die Erhöhung der Leitzins der EZB einen negativen Faktor auf den Adj. Close Price. Aus dem Regressions-Parameter kann man das bereits im Kapitel 1 beschriebene Problem der Übergewichtung der amerikanischen Unternehmen im ETF nochmal nachweisen und unterstreichen. Die FED hat einen deutlichen Einfluss auf die Aktien als die EZB, da deutlich weniger europäische Unternehmen im ETF enthalten sind.\n",
    "\n",
    "Zusätzliche wurden Konfidenzintervalle der MLR-Koeffizienten berechnet und als Histogram angezeigt um die statische Verteilung und Schwankung der Parameter nachempfinden zu können. Betrachtet man nun die Ergebnisse kann man sehen, dass die MLR-Koeffizienten relative stark um den Mittelwert schwanken. Dies deutet drauf hin, dass die Koeffizienten unsicher/instabil. Gründe dafür könnten sein, dass:\n",
    "\n",
    "   * die Datenmenge zu gering und somit eine zu kleine Aussagekraft haben\n",
    "   * Vorhandensein von Ausreißern in den Daten\n",
    "   * Modellkomplexität, da der ETF an viele verschiedene Faktoren des Marktes gebunden ist, sind 3 Parameter keine vollständige Auswertung der Abhängigkeiten\n",
    "\n",
    "Neben den MLR ohne Gewichtung wurden zwei weitere MLR mit Gewichtung durchgeführt:\n",
    "\n",
    "*MRL Volumen Gewichtung*\n",
    "<br>\n",
    "<img src= \"./images/Chapter4/Erg_mult_lin_Reg_1.png\"  width=\"950\" >\n",
    "<br>\n",
    "<br>\n",
    "\n",
    "*MRL zeitliche Auflösung als Gewichtung*\n",
    "<br>\n",
    "<img src= \"./images/Chapter4/Erg_mult_lin_Reg_2.png\"  width=\"950\" >\n",
    "<br>\n",
    "\n",
    "Anders als bei der MRL ohne Gewichtung, kann man sehen, dass die Koeffizienten einen anderen Einfluss aus den Adj. Close Price haben. Daran kann man erkennen, dass je nach Kontext mit gleicher Ausgangssituation andere Ergebnisse und somit auch eine ganz andere Interpretation durchgeführt werden kann.\n",
    "Zusätzlich wurde bei der MRL (zeitliche Auflösung) eine Prognose für den 01.08.2023 dargestellt. Es soll hier nur als experimentelles Modell dienen und den Verständnis verbessern, jedoch ist das kein Modell mittels man eine korrekte Vorhersage der Aktien durchführen kann.\n",
    "\n",
    "Im nächsten Bereich wurde auf die Klassifikationsmodelle eingegangen und dabei wurde Lineare Diskriminanzanalyse, Naiver Bayes und Logistische Regression eingegange. Zusätzlich wurde konfusion Matrix, Relevanz, Sensitivität zu der LDA als auch Naiver Bayes erstellt. Die Ergebnisse sowie Interpretation der Werte wurden in den Chapter sehr detailliert eingegangen und wird hier nicht nochmal spezifisch aufgegriffen. Für nähere Erklärungen bitte in Chapter 3 hereinschauen.\n"
   ],
   "metadata": {
    "collapsed": false
   }
  },
  {
   "cell_type": "markdown",
   "source": [
    "## Review (34)"
   ],
   "metadata": {
    "collapsed": false
   }
  },
  {
   "cell_type": "markdown",
   "source": [
    "Zusammenfassend kann man sagen, dass man mittels einer detaillierten und umfangreichen Analyse des iShares Core MSCI World UCITS ETF einiges über die Finanzwelt und seine Abhängigkeiten lernen konnte. Beginnend mit dem Business Understanding um Schlussendlichen mit den Modellierungsverfahren. Auch spannend war es sich mit den öffentlich zugänglichen Daten der EZB und der FED vertraut zu machen und zuerkennen, dass es eine rießige Datenansammlung existiert. Die neben der Analysen der Aktien auch für andere VWL spezifische Thesen und Fragestellungen genutzt werden kann.\n",
    "\n",
    "Im Projekt habe ich viel Zeit damit verbracht die verschiedene Daten zu bereinigen, zusammenzuführen. Die richtigen Einflussgrößen herauszufiltern und diese in dem zeitlichen Rahmen mit den ETF Daten zusammengeführt. Auch unschön war es, dass die Daten oftmals Lücken oder falsche Datentyp hatten, welche man dann nochmal bereinigen bzw. konvertieren musste.\n",
    "\n",
    "Auch habe ich im Projekt vieles über dem iShares Core MSCI World UCITS ETF gelernt. Auch wenn ich wusste, dass der ETF eine große amerikanische Gewichtung hatte, war mir nicht bewusst, wie viel Einfluss die FED wirklich auf den ETF hatte. Anders als am Anfang erwartet war der Währungstausch (ERR/USD) und der Leitzins der EZB deutlich geringer in der Gewichtung als die Leitzins FED.\n",
    "\n",
    "Durch das Projekt konnte ich auch zum ersten Mal \"handons\" an mathematischen Methoden arbeiten, die man aus dem Studium bereits kannte, aber keinen praktischen Mehrwert hatte, hier zb. die Regression. Verbindet man die Regression mit Datensätzen und Gewichtet diese dann, kann man aus den verschiedenen Kontext neue Erkenntnisse schöpfen.\n",
    "\n",
    "Zusätzlich konnte ich durch die Prädikation Modellierungsverfahren kennenlernen, die sowohl historische aus kategorische Daten verarbeitet und Prognosen sowie detaillierte Analysen der Daten aufzeigt.\n",
    "\n",
    "Leider musste ich auch einige Probleme und Herausforderungen stellen, bei denen ich keine korrekte Lösung finden konnte. In der Evaluierung Konfussion Matrix, Relevanz, Sensitivität des LDA wurde falsche Ergebnisse durch die Berechnungen angegeben. Nach weiteren Analysen und Absprache mit Prof. Spehr konnte der Fehler im Konfussion Matrix nicht gefunden und nach interpretiert werden. Obwohl es Datensätze existieren, die negativen Werte besitzen, sagt das Modell nur positive Werte voraus, weswegen sowohl die Werte im Konfussion Matrix als auch Precision, Recall, Fscore, Support verfälscht sind und somit keine richtige Aussagekraft haben.\n",
    "\n",
    "Gründe dafür könnte sein, dass die Quelldaten unkorrekt, Daten falsch zusammengesetzt oder die Daten für das Modell falsch berechnet werden.\n",
    "\n",
    "*__Im Allgemeinen konnte ich aber aus dem Projekt neue Erkenntnisse im Bereich der Daten Science, ETF und ein tieferes Verständnis für Trainingsmodelle gewinnen!__*"
   ],
   "metadata": {
    "collapsed": false
   }
  },
  {
   "cell_type": "code",
   "execution_count": null,
   "outputs": [],
   "source": [],
   "metadata": {
    "collapsed": false,
    "ExecuteTime": {
     "end_time": "2023-07-30T17:51:34.311013900Z",
     "start_time": "2023-07-30T17:51:34.274004100Z"
    }
   }
  }
 ],
 "metadata": {
  "kernelspec": {
   "display_name": "Python 3",
   "language": "python",
   "name": "python3"
  },
  "language_info": {
   "codemirror_mode": {
    "name": "ipython",
    "version": 2
   },
   "file_extension": ".py",
   "mimetype": "text/x-python",
   "name": "python",
   "nbconvert_exporter": "python",
   "pygments_lexer": "ipython2",
   "version": "2.7.6"
  }
 },
 "nbformat": 4,
 "nbformat_minor": 0
}
